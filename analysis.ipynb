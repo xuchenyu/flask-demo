{
 "cells": [
  {
   "cell_type": "code",
   "execution_count": 1,
   "metadata": {
    "collapsed": false
   },
   "outputs": [],
   "source": [
    "%matplotlib inline\n",
    "import requests\n",
    "#import numpy as np\n",
    "from pandas import *\n",
    "from matplotlib.pyplot import *\n",
    "from bokeh.plotting import figure, show, output_file, output_notebook\n",
    "set_option('notebook_repr_html', False)\n",
    "set_option('display.max_rows', 20)"
   ]
  },
  {
   "cell_type": "code",
   "execution_count": 2,
   "metadata": {
    "collapsed": true
   },
   "outputs": [],
   "source": [
    "ticker = 'MSFT'\n",
    "start = '2015-01-01'\n",
    "end = '2015-08-31'"
   ]
  },
  {
   "cell_type": "code",
   "execution_count": 3,
   "metadata": {
    "collapsed": false
   },
   "outputs": [],
   "source": [
    "rawdata = requests.get('https://www.quandl.com/api/v3/datasets/WIKI/%s.json?order=asc' % ticker).json()['dataset']\n",
    "#rawdata = requests.get('https://www.quandl.com/api/v3/datasets/WIKI/%s.json?order=asc&start_date=%s&end_date=%s' % (ticker, start, end)).json()['dataset']\n",
    "mydf = DataFrame(rawdata['data'], columns=rawdata['column_names'])"
   ]
  },
  {
   "cell_type": "code",
   "execution_count": 4,
   "metadata": {
    "collapsed": false
   },
   "outputs": [],
   "source": [
    "def convert_date(val):\n",
    "    y, m, d = val.split('-')\n",
    "    return datetime(int(y), int(m), int(d))\n",
    "mydf['Date'] = mydf['Date'].map(convert_date)"
   ]
  },
  {
   "cell_type": "code",
   "execution_count": 9,
   "metadata": {
    "collapsed": false
   },
   "outputs": [],
   "source": [
    "#output_notebook()\n",
    "output_file('graph.html',title='Stock Data')"
   ]
  },
  {
   "cell_type": "code",
   "execution_count": 6,
   "metadata": {
    "collapsed": false
   },
   "outputs": [],
   "source": [
    "TOOLS = \"pan, box_zoom, wheel_zoom, reset, save\"\n",
    "p = figure(x_axis_type=\"datetime\",x_axis_label = \"Date\", y_axis_label = \"Stock Data\", tools=TOOLS, plot_width=600, toolbar_location='above')\n",
    "p.line(mydf['Date'],mydf['Close'], color='#1F78B4', legend='Close')\n",
    "#p.line(mydf['Date'],mydf['Adj. Close'], color='#33A02C', legend='Adj. Close')\n",
    "#p.line(mydf['Date'],mydf['Volume'], color='#FB9A99', legend='Volume')\n",
    "p.legend.orientation = 'top_left'"
   ]
  },
  {
   "cell_type": "code",
   "execution_count": 10,
   "metadata": {
    "collapsed": false
   },
   "outputs": [],
   "source": [
    "show(p)"
   ]
  },
  {
   "cell_type": "code",
   "execution_count": null,
   "metadata": {
    "collapsed": true
   },
   "outputs": [],
   "source": []
  }
 ],
 "metadata": {
  "kernelspec": {
   "display_name": "Python 2",
   "language": "python",
   "name": "python2"
  },
  "language_info": {
   "codemirror_mode": {
    "name": "ipython",
    "version": 2
   },
   "file_extension": ".py",
   "mimetype": "text/x-python",
   "name": "python",
   "nbconvert_exporter": "python",
   "pygments_lexer": "ipython2",
   "version": "2.7.10"
  }
 },
 "nbformat": 4,
 "nbformat_minor": 0
}
